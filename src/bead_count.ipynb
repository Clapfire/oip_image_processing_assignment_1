{
 "cells": [
  {
   "cell_type": "markdown",
   "metadata": {},
   "source": [
    "# Bead count\n",
    "\n",
    "This module will demonstrate how to seperate the image into smaller images of the clusters. The pipeline performs the following operations:\n",
    "    \n",
    "    - Load image.\n",
    "    - Convert image to grayscale.\n",
    "    - Convert image to binary.\n",
    "    - Convert image to set.\n",
    "    - Dilate image by factor x.\n",
    "    - For all foreground pixels find connected pixels as new set with flood fill algorithm.\n",
    "    - Get boundary boxes.\n",
    "    - Extract subimages.\n",
    "    - Write subimages to disk."
   ]
  },
  {
   "cell_type": "code",
   "execution_count": 1,
   "metadata": {},
   "outputs": [],
   "source": [
    "import math\n",
    "import numpy as np\n",
    "import matplotlib.pyplot as plt\n",
    "\n",
    "from scipy import ndimage as ndi\n",
    "from skimage.morphology import watershed\n",
    "from skimage.feature import peak_local_max\n",
    "from skimage.morphology import binary_erosion\n",
    "\n",
    "from skimage import data, color\n",
    "from skimage.transform import hough_circle, hough_circle_peaks\n",
    "from skimage.filters import scharr\n",
    "from skimage.feature import canny\n",
    "from skimage.draw import circle_perimeter\n",
    "from skimage.util import img_as_ubyte\n",
    "\n",
    "import modules.oiplib as oiplib"
   ]
  },
  {
   "cell_type": "code",
   "execution_count": 2,
   "metadata": {
    "scrolled": false
   },
   "outputs": [],
   "source": [
    "# Load all clusters.\n",
    "clusters = oiplib.loadImages(\"../images/clusters\")"
   ]
  },
  {
   "cell_type": "code",
   "execution_count": 3,
   "metadata": {
    "scrolled": false
   },
   "outputs": [
    {
     "data": {
      "image/png": "[encoded data removed]",
      "text/plain": [
       "<Figure size 720x720 with 2 Axes>"
      ]
     },
     "metadata": {
      "needs_background": "light"
     },
     "output_type": "display_data"
    }
   ],
   "source": [
    "# Show picture.\n",
    "grayImg = clusters[5]\n",
    "oiplib.showImage(grayImg, \"Original image\", figsize=(10, 10), cmap=\"gray\");"
   ]
  },
  {
   "cell_type": "code",
   "execution_count": 4,
   "metadata": {},
   "outputs": [
    {
     "data": {
      "image/png": "[encoded data removed]",
      "text/plain": [
       "<Figure size 648x216 with 3 Axes>"
      ]
     },
     "metadata": {
      "needs_background": "light"
     },
     "output_type": "display_data"
    }
   ],
   "source": [
    "# Detect regions.\n",
    "binImg = binary_erosion(oiplib.gray2Binary(grayImg), np.ones((2,2)))\n",
    "distance = ndi.distance_transform_edt(binImg)\n",
    "local_maxi = peak_local_max(distance, indices=False, footprint=np.ones((6,6)), labels=binImg)\n",
    "markers = ndi.label(local_maxi)[0]\n",
    "labels = watershed(-distance, markers, mask=binImg)\n",
    "\n",
    "fig, axes = plt.subplots(ncols=3, figsize=(9, 3), sharex=True, sharey=True)\n",
    "ax = axes.ravel()\n",
    "\n",
    "ax[0].imshow(binImg, cmap=\"gray\")\n",
    "ax[0].set_title('Overlapping objects')\n",
    "ax[1].imshow(-distance, cmap=\"gray\")\n",
    "ax[1].set_title('Distances')\n",
    "ax[2].imshow(labels, cmap=plt.cm.nipy_spectral)\n",
    "ax[2].set_title('Separated objects')\n",
    "\n",
    "for a in ax:\n",
    "    a.set_axis_off()\n",
    "\n",
    "fig.tight_layout()\n",
    "plt.show()\n",
    "\n",
    "# oiplib.showImage(distance, \"Binary image\", figsize=(10, 10), cmap=\"twilight\", vmax=np.max(distance));\n",
    "# oiplib.showImage(edgeImg, \"Original image\", figsize=(10, 10), cmap=\"gray\", vmax=255);\n",
    "\n",
    "\n",
    "# # Detect two radii\n",
    "# hough_radii = np.arange(20, 35, 2)\n",
    "# hough_res = hough_circle(edges, hough_radii)\n",
    "\n",
    "# # Select the most prominent 3 circles\n",
    "# accums, cx, cy, radii = hough_circle_peaks(hough_res, hough_radii,\n",
    "#                                            total_num_peaks=3)\n",
    "\n",
    "# # Draw them\n",
    "# fig, ax = plt.subplots(ncols=1, nrows=1, figsize=(10, 4))\n",
    "# image = color.gray2rgb(image)\n",
    "# for center_y, center_x, radius in zip(cy, cx, radii):\n",
    "#     circy, circx = circle_perimeter(center_y, center_x, radius,\n",
    "#                                     shape=image.shape)\n",
    "#     image[circy, circx] = (220, 20, 20)\n",
    "\n",
    "# ax.imshow(image, cmap=plt.cm.gray)\n",
    "# plt.show()"
   ]
  },
  {
   "cell_type": "code",
   "execution_count": null,
   "metadata": {},
   "outputs": [],
   "source": []
  },
  {
   "cell_type": "code",
   "execution_count": null,
   "metadata": {},
   "outputs": [],
   "source": []
  },
  {
   "cell_type": "code",
   "execution_count": null,
   "metadata": {},
   "outputs": [],
   "source": []
  }
 ],
 "metadata": {
  "file_extension": ".py",
  "kernelspec": {
   "display_name": "Python 3",
   "language": "python",
   "name": "python3"
  },
  "language_info": {
   "codemirror_mode": {
    "name": "ipython",
    "version": 3
   },
   "file_extension": ".py",
   "mimetype": "text/x-python",
   "name": "python",
   "nbconvert_exporter": "python",
   "pygments_lexer": "ipython3",
   "version": "3.6.8"
  },
  "mimetype": "text/x-python",
  "name": "python",
  "npconvert_exporter": "python",
  "pygments_lexer": "ipython3",
  "version": 3
 },
 "nbformat": 4,
 "nbformat_minor": 2
}
