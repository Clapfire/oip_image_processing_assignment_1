{
 "cells": [
  {
   "cell_type": "markdown",
   "metadata": {},
   "source": [
    "# Bead count\n",
    "\n",
    "This module will demonstrate how to count the beads in the cluster images:\n",
    "    \n",
    "    - Load cluster images.\n",
    "    - Convert image to binary.\n",
    "    - Scale image up to increase resolution.\n",
    "    - Dilate image to reduce the possibility to get close local maximas during watershedding.\n",
    "    - Convert image to set.\n",
    "    - Dilate image by factor x.\n",
    "    - For all foreground pixels find connected pixels as new set with flood fill algorithm.\n",
    "    - Get boundary boxes.\n",
    "    - Extract subimages.\n",
    "    - Write subimages to disk."
   ]
  },
  {
   "cell_type": "code",
   "execution_count": 1,
   "metadata": {},
   "outputs": [],
   "source": [
    "import math\n",
    "import numpy as np\n",
    "import matplotlib.pyplot as plt\n",
    "\n",
    "import scipy as sp\n",
    "import skimage as ski\n",
    "\n",
    "from skimage.morphology import watershed\n",
    "from skimage.feature import peak_local_max\n",
    "from skimage.morphology import binary_erosion\n",
    "\n",
    "from skimage import data, color\n",
    "from skimage.transform import rescale, hough_circle, hough_circle_peaks\n",
    "from skimage.filters import scharr\n",
    "from skimage.feature import canny\n",
    "from skimage.draw import circle_perimeter\n",
    "from skimage.util import img_as_ubyte\n",
    "\n",
    "import modules.oiplib as oiplib\n",
    "\n",
    "gray2Binary = oiplib.gray2Binary"
   ]
  },
  {
   "cell_type": "code",
   "execution_count": 2,
   "metadata": {
    "scrolled": false
   },
   "outputs": [],
   "source": [
    "# Load all clusters.\n",
    "clusters = oiplib.loadImages(\"../images/clusters\")"
   ]
  },
  {
   "cell_type": "code",
   "execution_count": 3,
   "metadata": {},
   "outputs": [],
   "source": [
    "# Determine bead count for all clusters.\n",
    "beadCounts = {}\n",
    "\n",
    "for cluster in clusters:\n",
    "    labelImg = oiplib.labelRegionWatershed(cluster)\n",
    "    labels = np.unique(labelImg)\n",
    "    \n",
    "    beadCount = len(labels) - 1\n",
    "    \n",
    "    if beadCounts.get(beadCount) is None:\n",
    "        beadCounts[beadCount] = 1\n",
    "    else:\n",
    "        beadCounts[beadCount] += 1"
   ]
  },
  {
   "cell_type": "code",
   "execution_count": 4,
   "metadata": {},
   "outputs": [
    {
     "data": {
      "image/png": "[encoded data removed]",
      "text/plain": [
       "<Figure size 720x720 with 1 Axes>"
      ]
     },
     "metadata": {
      "needs_background": "light"
     },
     "output_type": "display_data"
    }
   ],
   "source": [
    "# General histogram variables.\n",
    "maxBeadCount = max(beadCounts.keys())\n",
    "maxOccurrenceCount = max(beadCounts.values())\n",
    "xAxis = np.arange(1, maxBeadCount + 1)\n",
    "yAxis = np.arange(0, math.ceil(maxOccurrenceCount / 5) + 1) * 5\n",
    "yHist = np.zeros(maxBeadCount)\n",
    "yHistCum = np.zeros(maxBeadCount)\n",
    "\n",
    "# Create histogram.\n",
    "for key, value in beadCounts.items():\n",
    "    yHist[key - 1] = value\n",
    "    \n",
    "fig, ax = plt.subplots(figsize=(10, 10))\n",
    "plot = ax.bar(xAxis, yHist)\n",
    "ax.grid()\n",
    "ax.set_axisbelow(True)\n",
    "ax.set_title(\"Histogram of clusters per bead count\")\n",
    "ax.set_xlabel(\"Bead count\")\n",
    "ax.set_ylabel(\"Clusters with bead count\")\n",
    "ax.set_xticks(xAxis);\n",
    "ax.set_yticks(yAxis);"
   ]
  }
 ],
 "metadata": {
  "file_extension": ".py",
  "kernelspec": {
   "display_name": "Python 3",
   "language": "python",
   "name": "python3"
  },
  "language_info": {
   "codemirror_mode": {
    "name": "ipython",
    "version": 3
   },
   "file_extension": ".py",
   "mimetype": "text/x-python",
   "name": "python",
   "nbconvert_exporter": "python",
   "pygments_lexer": "ipython3",
   "version": "3.6.8"
  },
  "mimetype": "text/x-python",
  "name": "python",
  "npconvert_exporter": "python",
  "pygments_lexer": "ipython3",
  "version": 3
 },
 "nbformat": 4,
 "nbformat_minor": 2
}
