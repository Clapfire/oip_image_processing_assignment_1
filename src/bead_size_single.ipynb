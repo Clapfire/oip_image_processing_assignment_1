{
 "cells": [
  {
   "cell_type": "markdown",
   "metadata": {},
   "source": [
    "# Bead Size\n",
    "\n",
    "This module will demonstrate how to find the size of the beads in the cluster images. The pipeline will be:\n",
    "\n",
    "- Load cluster images\n",
    "- Convert image to binary\n",
    "- Scale up image\n",
    "- Dilate image\n",
    "- Convert image to set\n",
    "- Dilate image by a factor X\n",
    "- Find all connected pixels in foreground using flood-fill\n",
    "- Get boundary "
   ]
  },
  {
   "cell_type": "code",
   "execution_count": 1,
   "metadata": {},
   "outputs": [],
   "source": [
    "import modules.oiplib as oiplib\n",
    "\n",
    "from skimage import morphology\n",
    "import numpy as np"
   ]
  },
  {
   "cell_type": "code",
   "execution_count": 2,
   "metadata": {},
   "outputs": [],
   "source": [
    "clusters = oiplib.loadImages(\"../images/clusters\")"
   ]
  },
  {
   "cell_type": "code",
   "execution_count": 3,
   "metadata": {},
   "outputs": [],
   "source": [
    "img = clusters[100]"
   ]
  },
  {
   "cell_type": "code",
   "execution_count": 4,
   "metadata": {},
   "outputs": [],
   "source": [
    "labelImg = oiplib.labelRegionWatershed(img)"
   ]
  },
  {
   "cell_type": "code",
   "execution_count": 5,
   "metadata": {},
   "outputs": [],
   "source": [
    "# labelImg = morphology.binary_dilation(labelImg, np.ones((10,10)))"
   ]
  },
  {
   "cell_type": "code",
   "execution_count": 6,
   "metadata": {},
   "outputs": [
    {
     "data": {
      "text/plain": [
       "(<Figure size 360x360 with 1 Axes>,\n",
       " <matplotlib.axes._subplots.AxesSubplot at 0x1ba38390>)"
      ]
     },
     "execution_count": 6,
     "metadata": {},
     "output_type": "execute_result"
    },
    {
     "data": {
      "image/png": "[encoded data removed]",
      "text/plain": [
       "<Figure size 360x360 with 1 Axes>"
      ]
     },
     "metadata": {
      "needs_background": "light"
     },
     "output_type": "display_data"
    }
   ],
   "source": [
    "oiplib.showImage(labelImg, vmax=1)"
   ]
  },
  {
   "cell_type": "code",
   "execution_count": 7,
   "metadata": {},
   "outputs": [],
   "source": [
    "import numpy as np\n",
    "\n",
    "beads, areas = np.unique(labelImg, return_counts=True)"
   ]
  },
  {
   "cell_type": "markdown",
   "metadata": {},
   "source": [
    "We get the estimated diameters of each bead"
   ]
  },
  {
   "cell_type": "code",
   "execution_count": 8,
   "metadata": {},
   "outputs": [],
   "source": [
    "diameters = []\n",
    "\n",
    "for area in areas[1:]:\n",
    "    diameters.append(oiplib.areaToDiameter(area))"
   ]
  },
  {
   "cell_type": "markdown",
   "metadata": {},
   "source": [
    "Now we compensate for the erosion performed during the watershed step"
   ]
  },
  {
   "cell_type": "code",
   "execution_count": 9,
   "metadata": {},
   "outputs": [],
   "source": [
    "compensatedAreas = []\n",
    "\n",
    "for diameter in diameters:\n",
    "    compensatedAreas.append(oiplib.dilateBead(diameter, labelImg.shape))"
   ]
  },
  {
   "cell_type": "code",
   "execution_count": 10,
   "metadata": {},
   "outputs": [],
   "source": [
    "compensatedDiameters = []\n",
    "\n",
    "for area in compensatedAreas:\n",
    "    compensatedDiameters.append(oiplib.areaToDiameter(area)/10)"
   ]
  },
  {
   "cell_type": "code",
   "execution_count": 11,
   "metadata": {},
   "outputs": [
    {
     "data": {
      "text/plain": [
       "[6.434729986160063,\n",
       " 6.8858870631123095,\n",
       " 6.030233942197952,\n",
       " 4.203874983978954,\n",
       " 5.036162401186487,\n",
       " 6.4781151112396085,\n",
       " 7.869585214985496]"
      ]
     },
     "execution_count": 11,
     "metadata": {},
     "output_type": "execute_result"
    }
   ],
   "source": [
    "compensatedDiameters"
   ]
  },
  {
   "cell_type": "code",
   "execution_count": 12,
   "metadata": {},
   "outputs": [],
   "source": [
    "def pixelDiameterToSizenm(diameter):\n",
    "    return diameter * 8.2"
   ]
  },
  {
   "cell_type": "code",
   "execution_count": 13,
   "metadata": {},
   "outputs": [],
   "source": [
    "beadSizes = []\n",
    "\n",
    "for diameter in compensatedDiameters:\n",
    "    beadSizes.append(oiplib.pixelToLength(diameter, 8.2))"
   ]
  },
  {
   "cell_type": "code",
   "execution_count": 14,
   "metadata": {},
   "outputs": [
    {
     "data": {
      "text/plain": [
       "[52.76478588651251,\n",
       " 56.464273917520934,\n",
       " 49.4479183260232,\n",
       " 34.47177486862742,\n",
       " 41.296531689729186,\n",
       " 53.120543912164784,\n",
       " 64.53059876288106]"
      ]
     },
     "execution_count": 14,
     "metadata": {},
     "output_type": "execute_result"
    }
   ],
   "source": [
    "beadSizes"
   ]
  },
  {
   "cell_type": "code",
   "execution_count": null,
   "metadata": {},
   "outputs": [],
   "source": []
  }
 ],
 "metadata": {
  "kernelspec": {
   "display_name": "Python 3",
   "language": "python",
   "name": "python3"
  },
  "language_info": {
   "codemirror_mode": {
    "name": "ipython",
    "version": 3
   },
   "file_extension": ".py",
   "mimetype": "text/x-python",
   "name": "python",
   "nbconvert_exporter": "python",
   "pygments_lexer": "ipython3",
   "version": "3.7.2"
  }
 },
 "nbformat": 4,
 "nbformat_minor": 2
}
