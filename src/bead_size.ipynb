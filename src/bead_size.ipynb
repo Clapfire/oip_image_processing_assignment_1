{
 "cells": [
  {
   "cell_type": "markdown",
   "metadata": {},
   "source": [
    "# Bead Size\n",
    "\n",
    "This module will demonstrate how to find the size of the beads in the cluster images. The pipeline will be:\n",
    "\n",
    "- Load cluster images\n",
    "- Scale up image\n",
    "- Find all connected pixels in foreground using flood-fill (this step erodes the image)\n",
    "- Get boundary\n",
    "- Use area of boundary to approximate a circle\n",
    "- Dilate circle to compensate for erosion in flood-fill\n",
    "- Find area of dilated circle\n",
    "- Approximate new circle based on area\n",
    "- Convert diameter of circle from pixels to nanometers\n",
    "- Plot the diameters of all beads in a histogram"
   ]
  },
  {
   "cell_type": "code",
   "execution_count": 1,
   "metadata": {},
   "outputs": [],
   "source": [
    "import modules.oiplib as oiplib\n",
    "\n",
    "from skimage import morphology\n",
    "import numpy as np\n",
    "import matplotlib.pyplot as plt\n",
    "import math"
   ]
  },
  {
   "cell_type": "code",
   "execution_count": 2,
   "metadata": {},
   "outputs": [],
   "source": [
    "clusters = oiplib.loadImages(\"../images/clusters\")"
   ]
  },
  {
   "cell_type": "markdown",
   "metadata": {},
   "source": [
    "We load all the images and find the approximate diameters of each bead as described in the beginning"
   ]
  },
  {
   "cell_type": "code",
   "execution_count": 3,
   "metadata": {},
   "outputs": [],
   "source": [
    "sizes = []\n",
    "\n",
    "for cluster in clusters:\n",
    "    # Find beads\n",
    "    \n",
    "    labelImg = oiplib.labelRegionWatershed(cluster)\n",
    "    beads, areas = np.unique(labelImg, return_counts=True)\n",
    "    \n",
    "    # Approximate the diameter of each bead\n",
    "    \n",
    "    diameters = []\n",
    "    \n",
    "    for area in areas[1:]: # We skip the first element as it is the background\n",
    "        diameters.append(oiplib.areaToDiameter(area))\n",
    "        \n",
    "    # Find the area of each bead, compensating for erosion\n",
    "    \n",
    "    compAreas = []\n",
    "    \n",
    "    for diameter in diameters: \n",
    "        compAreas.append(oiplib.dilateBead(diameter, labelImg.shape))\n",
    "        \n",
    "    # We approximate the diameters using the compensated areas\n",
    "    \n",
    "    diameters = []\n",
    "    \n",
    "    for area in compAreas:\n",
    "        diameters.append(oiplib.areaToDiameter(area)/10) # We divide by 10, as we scaled the image up 10\n",
    "        \n",
    "    # Write the diameters to the global array\n",
    "    \n",
    "    for diameter in diameters:\n",
    "        sizes.append(oiplib.pixelDiameterToSizenm(diameter))\n"
   ]
  },
  {
   "cell_type": "markdown",
   "metadata": {},
   "source": [
    "We floor the sizes so that they arranged in bins of 1 nanometer"
   ]
  },
  {
   "cell_type": "code",
   "execution_count": 4,
   "metadata": {},
   "outputs": [],
   "source": [
    "flooredSizes = np.floor(sizes).astype(np.uint8)\n",
    "flooredSizes = np.unique(flooredSizes, return_counts=True)"
   ]
  },
  {
   "cell_type": "markdown",
   "metadata": {},
   "source": [
    "Collect the data in a dictionary for easy processing"
   ]
  },
  {
   "cell_type": "code",
   "execution_count": 5,
   "metadata": {},
   "outputs": [],
   "source": [
    "sizesDict = dict()\n",
    "\n",
    "for i in range(np.max(flooredSizes[1])):\n",
    "    sizesDict[i] = 0\n",
    "    \n",
    "\n",
    "for i, size in enumerate(flooredSizes[0]):\n",
    "    sizesDict[size] = flooredSizes[1][i]\n"
   ]
  },
  {
   "cell_type": "markdown",
   "metadata": {},
   "source": [
    "Plot the histogram"
   ]
  },
  {
   "cell_type": "code",
   "execution_count": 6,
   "metadata": {},
   "outputs": [
    {
     "data": {
      "text/plain": [
       "Text(0, 0.5, 'Number of beads')"
      ]
     },
     "execution_count": 6,
     "metadata": {},
     "output_type": "execute_result"
    },
    {
     "data": {
      "image/png": "[encoded data removed]",
      "text/plain": [
       "<Figure size 720x720 with 1 Axes>"
      ]
     },
     "metadata": {
      "needs_background": "light"
     },
     "output_type": "display_data"
    }
   ],
   "source": [
    "# General histogram variables.\n",
    "maxBeadSize = max(sizesDict.keys())\n",
    "maxCount = max(sizesDict.values())\n",
    "xAxis = np.arange(1, maxBeadSize + 1)\n",
    "yHist = np.zeros(maxBeadSize)\n",
    "\n",
    "# Create histogram.\n",
    "for key, value in sizesDict.items():\n",
    "    yHist[key - 1] = value\n",
    "    \n",
    "fig, ax = plt.subplots(figsize=(10, 10))\n",
    "plot = ax.bar(xAxis, yHist)\n",
    "ax.grid()\n",
    "ax.set_axisbelow(True)\n",
    "ax.set_title(\"Histogram of Bead Size\")\n",
    "ax.set_xlabel(\"Bead Size in nm\")\n",
    "ax.set_ylabel(\"Number of beads\")"
   ]
  }
 ],
 "metadata": {
  "kernelspec": {
   "display_name": "Python 3",
   "language": "python",
   "name": "python3"
  },
  "language_info": {
   "codemirror_mode": {
    "name": "ipython",
    "version": 3
   },
   "file_extension": ".py",
   "mimetype": "text/x-python",
   "name": "python",
   "nbconvert_exporter": "python",
   "pygments_lexer": "ipython3",
   "version": "3.7.2"
  }
 },
 "nbformat": 4,
 "nbformat_minor": 2
}
